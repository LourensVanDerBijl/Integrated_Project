{
 "cells": [
  {
   "cell_type": "code",
   "execution_count": 1,
   "id": "0b8a810f",
   "metadata": {},
   "outputs": [],
   "source": [
    "import pandas as pd\n",
    "import numpy as np\n",
    "import matplotlib.pyplot as plt\n",
    "import os\n"
   ]
  },
  {
   "cell_type": "code",
   "execution_count": 2,
   "id": "54648c45",
   "metadata": {},
   "outputs": [
    {
     "name": "stdout",
     "output_type": "stream",
     "text": [
      "   months_as_customer  age  policy_number policy_bind_date policy_state  \\\n",
      "0                 328   48         521585       2014/10/17           OH   \n",
      "1                 228   42         342868       2006/06/27           IN   \n",
      "2                 134   29         687698       2000/09/06           OH   \n",
      "3                 256   41         227811       1990/05/25           IL   \n",
      "4                 228   44         367455       2014/06/06           IL   \n",
      "\n",
      "  policy_csl  policy_deductable  policy_annual_premium  umbrella_limit  \\\n",
      "0    250/500               1000                1406.91               0   \n",
      "1    250/500               2000                1197.22         5000000   \n",
      "2    100/300               2000                1413.14         5000000   \n",
      "3    250/500               2000                1415.74         6000000   \n",
      "4   500/1000               1000                1583.91         6000000   \n",
      "\n",
      "   insured_zip  ... witnesses police_report_available total_claim_amount  \\\n",
      "0       466132  ...         2                     YES              71610   \n",
      "1       468176  ...         0                       ?               5070   \n",
      "2       430632  ...         3                      NO              34650   \n",
      "3       608117  ...         2                      NO              63400   \n",
      "4       610706  ...         1                      NO               6500   \n",
      "\n",
      "  injury_claim property_claim  vehicle_claim  auto_make auto_model auto_year  \\\n",
      "0         6510          13020          52080       Saab        92x      2004   \n",
      "1          780            780           3510   Mercedes       E400      2007   \n",
      "2         7700           3850          23100      Dodge        RAM      2007   \n",
      "3         6340           6340          50720  Chevrolet      Tahoe      2014   \n",
      "4         1300            650           4550     Accura        RSX      2009   \n",
      "\n",
      "  fraud_reported  \n",
      "0              Y  \n",
      "1              Y  \n",
      "2              N  \n",
      "3              Y  \n",
      "4              N  \n",
      "\n",
      "[5 rows x 39 columns]\n"
     ]
    }
   ],
   "source": [
    "# URL to your raw CSV file\n",
    "url = \"https://raw.githubusercontent.com/LourensVanDerBijl/Integrated_Project/refs/heads/main/insurance_claims-cleaned.csv\"\n",
    "\n",
    "# Load the CSV file into a DataFrame using the correct delimiter\n",
    "df = pd.read_csv(url, sep=';')\n",
    "\n",
    "# Inspect the first few rows\n",
    "print(df.head())"
   ]
  },
  {
   "cell_type": "code",
   "execution_count": 3,
   "id": "61d61711",
   "metadata": {},
   "outputs": [
    {
     "name": "stdout",
     "output_type": "stream",
     "text": [
      "authorities_contacted    91\n",
      "dtype: int64\n"
     ]
    }
   ],
   "source": [
    "# Check for missing values\n",
    "null_counts = df.isnull().sum()\n",
    "print(null_counts[null_counts > 0])  # Only show columns with missing values\n"
   ]
  },
  {
   "cell_type": "code",
   "execution_count": 4,
   "id": "d8a79049",
   "metadata": {},
   "outputs": [],
   "source": [
    "numerical_cols = df.select_dtypes(include=[np.number]).columns  # Select numerical columns\n",
    "df[numerical_cols] = df[numerical_cols].fillna(df[numerical_cols].median())\n"
   ]
  },
  {
   "cell_type": "code",
   "execution_count": 5,
   "id": "e2da9873",
   "metadata": {},
   "outputs": [],
   "source": [
    "categorical_cols = df.select_dtypes(include=[object]).columns  # Select categorical columns\n",
    "df[categorical_cols] = df[categorical_cols].fillna('Unknown')\n"
   ]
  },
  {
   "cell_type": "code",
   "execution_count": 6,
   "id": "083d9185",
   "metadata": {},
   "outputs": [
    {
     "name": "stdout",
     "output_type": "stream",
     "text": [
      "Series([], dtype: int64)\n"
     ]
    }
   ],
   "source": [
    "null_counts = df.isnull().sum()\n",
    "print(null_counts[null_counts > 0])  # Should return no missing values\n"
   ]
  },
  {
   "cell_type": "code",
   "execution_count": 7,
   "id": "a711f29f",
   "metadata": {},
   "outputs": [
    {
     "name": "stdout",
     "output_type": "stream",
     "text": [
      "       months_as_customer          age  policy_number  policy_deductable  \\\n",
      "count         1000.000000  1000.000000    1000.000000        1000.000000   \n",
      "mean           203.954000    38.948000  546238.648000        1136.000000   \n",
      "std            115.113174     9.140287  257063.005276         611.864673   \n",
      "min              0.000000    19.000000  100804.000000         500.000000   \n",
      "25%            115.750000    32.000000  335980.250000         500.000000   \n",
      "50%            199.500000    38.000000  533135.000000        1000.000000   \n",
      "75%            276.250000    44.000000  759099.750000        2000.000000   \n",
      "max            479.000000    64.000000  999435.000000        2000.000000   \n",
      "\n",
      "       policy_annual_premium  umbrella_limit    insured_zip  capital-gains  \\\n",
      "count            1000.000000    1.000000e+03    1000.000000    1000.000000   \n",
      "mean             1256.406150    1.101000e+06  501214.488000   25126.100000   \n",
      "std               244.167395    2.297407e+06   71701.610941   27872.187708   \n",
      "min               433.330000   -1.000000e+06  430104.000000       0.000000   \n",
      "25%              1089.607500    0.000000e+00  448404.500000       0.000000   \n",
      "50%              1257.200000    0.000000e+00  466445.500000       0.000000   \n",
      "75%              1415.695000    0.000000e+00  603251.000000   51025.000000   \n",
      "max              2047.590000    1.000000e+07  620962.000000  100500.000000   \n",
      "\n",
      "        capital-loss  incident_hour_of_the_day  number_of_vehicles_involved  \\\n",
      "count    1000.000000               1000.000000                   1000.00000   \n",
      "mean   -26793.700000                 11.644000                      1.83900   \n",
      "std     28104.096686                  6.951373                      1.01888   \n",
      "min   -111100.000000                  0.000000                      1.00000   \n",
      "25%    -51500.000000                  6.000000                      1.00000   \n",
      "50%    -23250.000000                 12.000000                      1.00000   \n",
      "75%         0.000000                 17.000000                      3.00000   \n",
      "max         0.000000                 23.000000                      4.00000   \n",
      "\n",
      "       bodily_injuries    witnesses  total_claim_amount  injury_claim  \\\n",
      "count      1000.000000  1000.000000          1000.00000   1000.000000   \n",
      "mean          0.992000     1.487000         52761.94000   7433.420000   \n",
      "std           0.820127     1.111335         26401.53319   4880.951853   \n",
      "min           0.000000     0.000000           100.00000      0.000000   \n",
      "25%           0.000000     1.000000         41812.50000   4295.000000   \n",
      "50%           1.000000     1.000000         58055.00000   6775.000000   \n",
      "75%           2.000000     2.000000         70592.50000  11305.000000   \n",
      "max           2.000000     3.000000        114920.00000  21450.000000   \n",
      "\n",
      "       property_claim  vehicle_claim    auto_year  \n",
      "count     1000.000000    1000.000000  1000.000000  \n",
      "mean      7399.570000   37928.950000  2005.103000  \n",
      "std       4824.726179   18886.252893     6.015861  \n",
      "min          0.000000      70.000000  1995.000000  \n",
      "25%       4445.000000   30292.500000  2000.000000  \n",
      "50%       6750.000000   42100.000000  2005.000000  \n",
      "75%      10885.000000   50822.500000  2010.000000  \n",
      "max      23670.000000   79560.000000  2015.000000  \n"
     ]
    }
   ],
   "source": [
    "print(df.describe())\n"
   ]
  },
  {
   "cell_type": "code",
   "execution_count": 8,
   "id": "71db0a61",
   "metadata": {},
   "outputs": [
    {
     "data": {
      "image/png": "[encoded data removed]",
      "text/plain": [
       "<Figure size 640x480 with 1 Axes>"
      ]
     },
     "metadata": {},
     "output_type": "display_data"
    },
    {
     "name": "stdout",
     "output_type": "stream",
     "text": [
      "   months_as_customer  age  policy_number policy_bind_date policy_state  \\\n",
      "0                 328   48         521585       2014/10/17           OH   \n",
      "1                 228   42         342868       2006/06/27           IN   \n",
      "2                 134   29         687698       2000/09/06           OH   \n",
      "3                 256   41         227811       1990/05/25           IL   \n",
      "4                 228   44         367455       2014/06/06           IL   \n",
      "\n",
      "  policy_csl  policy_deductable  policy_annual_premium  umbrella_limit  \\\n",
      "0    250/500               1000                1406.91               0   \n",
      "1    250/500               2000                1197.22         5000000   \n",
      "2    100/300               2000                1413.14         5000000   \n",
      "3    250/500               2000                1415.74         6000000   \n",
      "4   500/1000               1000                1583.91         6000000   \n",
      "\n",
      "   insured_zip  ... injury_claim property_claim vehicle_claim  auto_make  \\\n",
      "0       466132  ...         6510          13020         52080       Saab   \n",
      "1       468176  ...          780            780          3510   Mercedes   \n",
      "2       430632  ...         7700           3850         23100      Dodge   \n",
      "3       608117  ...         6340           6340         50720  Chevrolet   \n",
      "4       610706  ...         1300            650          4550     Accura   \n",
      "\n",
      "  auto_model  auto_year  fraud_reported ages_category   customer_category  \\\n",
      "0        92x       2004               1   Middle Aged    Long-Term Client   \n",
      "1       E400       2007               1   Middle Aged    Long-Term Client   \n",
      "2        RAM       2007               0   Young Adult  Established Client   \n",
      "3      Tahoe       2014               1   Middle Aged    Long-Term Client   \n",
      "4        RSX       2009               0   Middle Aged    Long-Term Client   \n",
      "\n",
      "  Contract_Years  \n",
      "0      27.333333  \n",
      "1      19.000000  \n",
      "2      11.166667  \n",
      "3      21.333333  \n",
      "4      19.000000  \n",
      "\n",
      "[5 rows x 42 columns]\n"
     ]
    }
   ],
   "source": [
    "# Bin age into categories\n",
    "bin_edges = [0, 30, 55, 100]\n",
    "bin_labels = ['Young Adult', 'Middle Aged', 'Elderly']\n",
    "df['ages_category'] = pd.cut(df['age'], bins=bin_edges, labels=bin_labels)\n",
    "\n",
    "# Bin months_as_customer into categories\n",
    "bin_edges_customer = [0, 25, 150, 500]\n",
    "bin_labels_customer = ['New Client', 'Established Client', 'Long-Term Client']\n",
    "df['customer_category'] = pd.cut(df['months_as_customer'], bins=bin_edges_customer, labels=bin_labels_customer)\n",
    "\n",
    "# Create new feature \"Contract Years\"\n",
    "df['Contract_Years'] = df['months_as_customer'] / 12\n",
    "\n",
    "# Convert fraud_reported to numeric\n",
    "df['fraud_reported'] = df['fraud_reported'].map({'Y': 1, 'N': 0})\n",
    "\n",
    "# Visualize age distribution\n",
    "plt.hist(df['age'], bins=10, edgecolor='black')\n",
    "plt.xlabel('Age')\n",
    "plt.ylabel('Frequency')\n",
    "plt.title('Histogram of Age')\n",
    "plt.show()\n",
    "\n",
    "# Check resulting DataFrame\n",
    "print(df.head())"
   ]
  },
  {
   "cell_type": "code",
   "execution_count": 11,
   "id": "4808ec3c",
   "metadata": {},
   "outputs": [
    {
     "name": "stdout",
     "output_type": "stream",
     "text": [
      "   months_as_customer  age  policy_number policy_bind_date policy_state  \\\n",
      "0                 328   48         521585       2014/10/17           OH   \n",
      "1                 228   42         342868       2006/06/27           IN   \n",
      "2                 134   29         687698       2000/09/06           OH   \n",
      "3                 256   41         227811       1990/05/25           IL   \n",
      "4                 228   44         367455       2014/06/06           IL   \n",
      "\n",
      "  policy_csl  policy_deductable  policy_annual_premium  umbrella_limit  \\\n",
      "0    250/500               1000                1406.91               0   \n",
      "1    250/500               2000                1197.22         5000000   \n",
      "2    100/300               2000                1413.14         5000000   \n",
      "3    250/500               2000                1415.74         6000000   \n",
      "4   500/1000               1000                1583.91         6000000   \n",
      "\n",
      "   insured_zip  ... vehicle_claim  auto_make auto_model auto_year  \\\n",
      "0       466132  ...         52080       Saab        92x      2004   \n",
      "1       468176  ...          3510   Mercedes       E400      2007   \n",
      "2       430632  ...         23100      Dodge        RAM      2007   \n",
      "3       608117  ...         50720  Chevrolet      Tahoe      2014   \n",
      "4       610706  ...          4550     Accura        RSX      2009   \n",
      "\n",
      "  fraud_reported  ages_category   customer_category Contract_Years  \\\n",
      "0              1    Middle Aged    Long-Term Client      27.333333   \n",
      "1              1    Middle Aged    Long-Term Client      19.000000   \n",
      "2              0    Young Adult  Established Client      11.166667   \n",
      "3              1    Middle Aged    Long-Term Client      21.333333   \n",
      "4              0    Middle Aged    Long-Term Client      19.000000   \n",
      "\n",
      "  total_premiums_paid net_value_of_customer  \n",
      "0        38455.540000         -33154.460000  \n",
      "1        22747.180000          17677.180000  \n",
      "2        15780.063333         -18869.936667  \n",
      "3        30202.453333         -33197.546667  \n",
      "4        30094.290000          23594.290000  \n",
      "\n",
      "[5 rows x 44 columns]\n"
     ]
    }
   ],
   "source": [
    "# Create \"ages_category\" column by binning age\n",
    "bin_edges = [0, 30, 55, 100]\n",
    "bin_labels = ['Young Adult', 'Middle Aged', 'Elderly']\n",
    "df['ages_category'] = pd.cut(df['age'], bins=bin_edges, labels=bin_labels)\n",
    "\n",
    "# Create \"customer_category\" by binning months_as_customer\n",
    "bin_edges_customer = [0, 25, 150, 500]\n",
    "bin_labels_customer = ['New Client', 'Established Client', 'Long-Term Client']\n",
    "df['customer_category'] = pd.cut(df['months_as_customer'], bins=bin_edges_customer, labels=bin_labels_customer)\n",
    "\n",
    "# Create the \"Contract_Years\" feature\n",
    "df['Contract_Years'] = df['months_as_customer'] / 12\n",
    "\n",
    "# Calculate total premiums paid\n",
    "df['total_premiums_paid'] = (df['policy_annual_premium'] / 12) * df['months_as_customer']\n",
    "\n",
    "# Calculate net value of customer\n",
    "df['net_value_of_customer'] = df['total_premiums_paid'] - df['total_claim_amount']\n",
    "\n",
    "# Display the first rows to confirm\n",
    "print(df.head())\n",
    "\n",
    "# Save the resulting DataFrame to CSV\n",
    "df.to_csv('Advanced_Features_Claims_Data.csv', index=False)\n"
   ]
  },
  {
   "cell_type": "code",
   "execution_count": null,
   "id": "4ed26e1d",
   "metadata": {},
   "outputs": [],
   "source": []
  },
  {
   "cell_type": "code",
   "execution_count": null,
   "id": "227421e6",
   "metadata": {},
   "outputs": [],
   "source": []
  }
 ],
 "metadata": {
  "kernelspec": {
   "display_name": "Python 3 (ipykernel)",
   "language": "python",
   "name": "python3"
  },
  "language_info": {
   "codemirror_mode": {
    "name": "ipython",
    "version": 3
   },
   "file_extension": ".py",
   "mimetype": "text/x-python",
   "name": "python",
   "nbconvert_exporter": "python",
   "pygments_lexer": "ipython3",
   "version": "3.11.5"
  }
 },
 "nbformat": 4,
 "nbformat_minor": 5
}
